{
 "cells": [
  {
   "cell_type": "code",
   "execution_count": 1,
   "id": "3cd2a982",
   "metadata": {},
   "outputs": [
    {
     "name": "stdout",
     "output_type": "stream",
     "text": [
      "Currently working at /Users/gieunkwak/Data Analytics/random_things/tridge_demo\n"
     ]
    }
   ],
   "source": [
    "import os\n",
    "\n",
    "path_parent = os.path.dirname(os.getcwd())\n",
    "os.chdir(path_parent)\n",
    "\n",
    "print(\"Currently working at {}\".format(os.getcwd()))"
   ]
  },
  {
   "cell_type": "code",
   "execution_count": 2,
   "id": "54573e20",
   "metadata": {},
   "outputs": [],
   "source": [
    "from app.utils.streamlit_utils import fred_processor"
   ]
  },
  {
   "cell_type": "code",
   "execution_count": 3,
   "id": "76190054",
   "metadata": {},
   "outputs": [],
   "source": [
    "food = ['Almonds', 'Alfalfa Hay', 'Blueberries', 'Avocados']"
   ]
  },
  {
   "cell_type": "code",
   "execution_count": 4,
   "id": "f1737833",
   "metadata": {},
   "outputs": [
    {
     "name": "stderr",
     "output_type": "stream",
     "text": [
      "2022-05-20 01:33:52.793 \n",
      "  \u001b[33m\u001b[1mWarning:\u001b[0m to view this Streamlit app on a browser, run it with the following\n",
      "  command:\n",
      "\n",
      "    streamlit run /Users/gieunkwak/opt/anaconda3/envs/scratch/lib/python3.8/site-packages/ipykernel_launcher.py [ARGUMENTS]\n",
      "2022-05-20 01:33:52,794 [app.utils.streamlit_utils] [INFO] Authenticating to FRED api ...\n",
      "2022-05-20 01:33:52.794 Authenticating to FRED api ...\n",
      "2022-05-20 01:33:52,795 [app.utils.streamlit_utils] [INFO] Collecting food options ...\n",
      "2022-05-20 01:33:52.795 Collecting food options ...\n",
      "2022-05-20 01:33:53.579 NumExpr defaulting to 8 threads.\n"
     ]
    }
   ],
   "source": [
    "fred = fred_processor()"
   ]
  },
  {
   "cell_type": "code",
   "execution_count": 5,
   "id": "c25fcf2e",
   "metadata": {},
   "outputs": [],
   "source": [
    "food_code_dict = fred.retrieve_code_from_food_name(food)"
   ]
  },
  {
   "cell_type": "markdown",
   "id": "18c389d0",
   "metadata": {},
   "source": [
    "Collect data"
   ]
  },
  {
   "cell_type": "code",
   "execution_count": 7,
   "id": "0b8f7af4",
   "metadata": {
    "scrolled": false
   },
   "outputs": [
    {
     "name": "stderr",
     "output_type": "stream",
     "text": [
      "2022-05-20 01:34:38,190 [app.utils.streamlit_utils] [INFO] Collecting selected index: Alfalfa Hay\n",
      "2022-05-20 01:34:38.190 Collecting selected index: Alfalfa Hay\n",
      "2022-05-20 01:34:38,198 [app.utils.fetch_data] [INFO] Fetching data from fred: WPU01810101, from 2000-01-01 to 2022-05-20.\n",
      "2022-05-20 01:34:38.198 Fetching data from fred: WPU01810101, from 2000-01-01 to 2022-05-20.\n",
      "2022-05-20 01:34:39,626 [app.utils.streamlit_utils] [INFO] Collecting selected index: Almonds\n",
      "2022-05-20 01:34:39.626 Collecting selected index: Almonds\n",
      "2022-05-20 01:34:39,630 [app.utils.fetch_data] [INFO] Fetching data from fred: WPU01190102, from 2000-01-01 to 2022-05-20.\n",
      "2022-05-20 01:34:39.630 Fetching data from fred: WPU01190102, from 2000-01-01 to 2022-05-20.\n",
      "2022-05-20 01:34:41,189 [app.utils.streamlit_utils] [INFO] Collecting selected index: Avocados\n",
      "2022-05-20 01:34:41.189 Collecting selected index: Avocados\n",
      "2022-05-20 01:34:41,193 [app.utils.fetch_data] [INFO] Fetching data from fred: WPU01110205, from 2000-01-01 to 2022-05-20.\n",
      "2022-05-20 01:34:41.193 Fetching data from fred: WPU01110205, from 2000-01-01 to 2022-05-20.\n",
      "2022-05-20 01:34:42,631 [app.utils.streamlit_utils] [INFO] Collecting selected index: Blueberries\n",
      "2022-05-20 01:34:42.631 Collecting selected index: Blueberries\n",
      "2022-05-20 01:34:42,635 [app.utils.fetch_data] [INFO] Fetching data from fred: WPU01110227, from 2000-01-01 to 2022-05-20.\n",
      "2022-05-20 01:34:42.635 Fetching data from fred: WPU01110227, from 2000-01-01 to 2022-05-20.\n"
     ]
    }
   ],
   "source": [
    "food_index_data = fred.collect_food_index(food_code_dict)"
   ]
  },
  {
   "cell_type": "markdown",
   "id": "a276006c",
   "metadata": {},
   "source": [
    "Forecasting"
   ]
  },
  {
   "cell_type": "code",
   "execution_count": 8,
   "id": "d3c1e007",
   "metadata": {},
   "outputs": [
    {
     "name": "stderr",
     "output_type": "stream",
     "text": [
      "2022-05-20 01:34:46,412 [app.utils.forecasting] [INFO] Creating timeseries data for Alfalfa Hay\n",
      "2022-05-20 01:34:46.412 Creating timeseries data for Alfalfa Hay\n",
      "2022-05-20 01:34:46,420 [app.utils.forecasting] [INFO] Forecasting the next 1 periods\n",
      "2022-05-20 01:34:46.420 Forecasting the next 1 periods\n",
      "2022-05-20 01:34:47.600 Disabling weekly seasonality. Run prophet with weekly_seasonality=True to override this.\n",
      "2022-05-20 01:34:47.601 Disabling daily seasonality. Run prophet with daily_seasonality=True to override this.\n"
     ]
    },
    {
     "name": "stdout",
     "output_type": "stream",
     "text": [
      "\n",
      "Initial log joint probability = -95.7906\n",
      "Iteration  1. Log joint probability =     63.933. Improved by 159.724.\n",
      "Iteration  2. Log joint probability =    107.954. Improved by 44.0214.\n",
      "Iteration  3. Log joint probability =    140.147. Improved by 32.1925.\n",
      "Iteration  4. Log joint probability =    160.783. Improved by 20.6357.\n",
      "Iteration  5. Log joint probability =    160.825. Improved by 0.0429113.\n",
      "Iteration  6. Log joint probability =    176.237. Improved by 15.4113.\n",
      "Iteration  7. Log joint probability =    176.243. Improved by 0.00660582.\n",
      "Iteration  8. Log joint probability =    176.275. Improved by 0.0313545.\n",
      "Iteration  9. Log joint probability =    176.467. Improved by 0.192095.\n",
      "Iteration 10. Log joint probability =    176.561. Improved by 0.0940217.\n",
      "Iteration 11. Log joint probability =    176.564. Improved by 0.00347377.\n",
      "Iteration 12. Log joint probability =    176.663. Improved by 0.0989456.\n",
      "Iteration 13. Log joint probability =    176.699. Improved by 0.0352611.\n",
      "Iteration 14. Log joint probability =    176.828. Improved by 0.129805.\n",
      "Iteration 15. Log joint probability =    176.914. Improved by 0.0857468.\n",
      "Iteration 16. Log joint probability =    176.977. Improved by 0.0633931.\n",
      "Iteration 17. Log joint probability =    177.081. Improved by 0.103277.\n",
      "Iteration 18. Log joint probability =    177.089. Improved by 0.0079373.\n",
      "Iteration 19. Log joint probability =    177.143. Improved by 0.0539475.\n",
      "Iteration 20. Log joint probability =    177.228. Improved by 0.0850051.\n",
      "Iteration 21. Log joint probability =    177.954. Improved by 0.726851.\n",
      "Iteration 22. Log joint probability =    178.167. Improved by 0.212264.\n",
      "Iteration 23. Log joint probability =    178.524. Improved by 0.357005.\n",
      "Iteration 24. Log joint probability =    178.644. Improved by 0.119858.\n",
      "Iteration 25. Log joint probability =    178.696. Improved by 0.0525413.\n",
      "Iteration 26. Log joint probability =    178.751. Improved by 0.0553053.\n",
      "Iteration 27. Log joint probability =    179.141. Improved by 0.389812.\n",
      "Iteration 28. Log joint probability =    179.624. Improved by 0.48311.\n",
      "Iteration 29. Log joint probability =    179.686. Improved by 0.0619482.\n",
      "Iteration 30. Log joint probability =    179.904. Improved by 0.217282.\n",
      "Iteration 31. Log joint probability =    179.958. Improved by 0.0547361.\n",
      "Iteration 32. Log joint probability =    179.978. Improved by 0.0197692.\n",
      "Iteration 33. Log joint probability =    180.162. Improved by 0.184334.\n",
      "Iteration 34. Log joint probability =    180.275. Improved by 0.11208.\n",
      "Iteration 35. Log joint probability =    180.275. Improved by 0.000600145.\n",
      "Iteration 36. Log joint probability =    180.386. Improved by 0.110469.\n",
      "Iteration 37. Log joint probability =     180.47. Improved by 0.0847553.\n",
      "Iteration 38. Log joint probability =    181.176. Improved by 0.70589.\n",
      "Iteration 39. Log joint probability =    181.271. Improved by 0.0945983.\n",
      "Iteration 40. Log joint probability =    181.333. Improved by 0.0623043.\n",
      "Iteration 41. Log joint probability =     181.46. Improved by 0.126465.\n",
      "Iteration 42. Log joint probability =     181.48. Improved by 0.0201685.\n",
      "Iteration 43. Log joint probability =    181.764. Improved by 0.283919.\n",
      "Iteration 44. Log joint probability =    182.291. Improved by 0.526946.\n",
      "Iteration 45. Log joint probability =    182.335. Improved by 0.0439928.\n",
      "Iteration 46. Log joint probability =    182.357. Improved by 0.0227212.\n",
      "Iteration 47. Log joint probability =    183.437. Improved by 1.07963.\n",
      "Iteration 48. Log joint probability =    183.461. Improved by 0.0241745.\n",
      "Iteration 49. Log joint probability =    183.506. Improved by 0.0445866.\n",
      "Iteration 50. Log joint probability =    183.602. Improved by 0.0958563.\n",
      "Iteration 51. Log joint probability =    183.755. Improved by 0.153076.\n",
      "Iteration 52. Log joint probability =    183.765. Improved by 0.010038.\n",
      "Iteration 53. Log joint probability =    183.881. Improved by 0.115829.\n",
      "Iteration 54. Log joint probability =    183.898. Improved by 0.0171681.\n",
      "Iteration 55. Log joint probability =    184.064. Improved by 0.166135.\n",
      "Iteration 56. Log joint probability =    184.087. Improved by 0.0232509.\n",
      "Iteration 57. Log joint probability =    184.094. Improved by 0.00651515.\n",
      "Iteration 58. Log joint probability =    184.117. Improved by 0.0237091.\n",
      "Iteration 59. Log joint probability =    184.173. Improved by 0.0555591.\n",
      "Iteration 60. Log joint probability =    184.253. Improved by 0.0803623.\n",
      "Iteration 61. Log joint probability =    184.267. Improved by 0.0142144.\n",
      "Iteration 62. Log joint probability =    185.152. Improved by 0.884222.\n",
      "Iteration 63. Log joint probability =    185.623. Improved by 0.471533.\n",
      "Iteration 64. Log joint probability =    185.704. Improved by 0.0809761.\n",
      "Iteration 65. Log joint probability =    185.768. Improved by 0.0640934.\n",
      "Iteration 66. Log joint probability =    185.892. Improved by 0.123652.\n",
      "Iteration 67. Log joint probability =    185.901. Improved by 0.00861628.\n",
      "Iteration 68. Log joint probability =    186.574. Improved by 0.673337.\n",
      "Iteration 69. Log joint probability =    186.757. Improved by 0.18327.\n",
      "Iteration 70. Log joint probability =    186.781. Improved by 0.02367.\n",
      "Iteration 71. Log joint probability =    187.143. Improved by 0.362568.\n",
      "Iteration 72. Log joint probability =    187.237. Improved by 0.0931652.\n",
      "Iteration 73. Log joint probability =    187.277. Improved by 0.04089.\n",
      "Iteration 74. Log joint probability =    187.282. Improved by 0.00496771.\n",
      "Iteration 75. Log joint probability =    187.286. Improved by 0.0035761.\n",
      "Iteration 76. Log joint probability =    187.341. Improved by 0.0547101.\n",
      "Iteration 77. Log joint probability =    187.348. Improved by 0.00683646.\n",
      "Iteration 78. Log joint probability =    187.356. Improved by 0.00825868.\n",
      "Iteration 79. Log joint probability =    187.358. Improved by 0.00219086.\n",
      "Iteration 80. Log joint probability =    187.369. Improved by 0.0113284.\n",
      "Iteration 81. Log joint probability =    187.372. Improved by 0.00252227.\n",
      "Iteration 82. Log joint probability =    187.374. Improved by 0.00249836.\n",
      "Iteration 83. Log joint probability =    187.376. Improved by 0.00211251.\n",
      "Iteration 84. Log joint probability =    187.378. Improved by 0.00108391.\n",
      "Iteration 85. Log joint probability =    187.378. Improved by 0.000422297.\n",
      "Iteration 86. Log joint probability =    187.379. Improved by 0.000682204.\n",
      "Iteration 87. Log joint probability =    187.379. Improved by 0.000179726.\n",
      "Iteration 88. Log joint probability =    187.379. Improved by 0.000303251.\n",
      "Iteration 89. Log joint probability =    187.379. Improved by 2.20089e-05.\n",
      "Iteration 90. Log joint probability =     187.38. Improved by 0.00055805.\n",
      "Iteration 91. Log joint probability =     187.38. Improved by 0.000693698.\n",
      "Iteration 92. Log joint probability =    187.381. Improved by 0.000292502.\n",
      "Iteration 93. Log joint probability =    187.381. Improved by 7.22673e-05.\n",
      "Iteration 94. Log joint probability =    187.381. Improved by 0.000140373.\n",
      "Iteration 95. Log joint probability =    187.381. Improved by 0.000113211.\n",
      "Iteration 96. Log joint probability =    187.381. Improved by 7.39652e-06.\n",
      "Iteration 97. Log joint probability =    187.381. Improved by 0.000177073.\n",
      "Iteration 98. Log joint probability =    187.381. Improved by 0.000142813.\n",
      "Iteration 99. Log joint probability =    187.381. Improved by 6.88429e-05.\n",
      "Iteration 100. Log joint probability =    187.381. Improved by 2.83164e-05.\n",
      "Iteration 101. Log joint probability =    187.382. Improved by 8.31077e-05.\n",
      "Iteration 102. Log joint probability =    187.382. Improved by 1.1239e-06.\n",
      "Iteration 103. Log joint probability =    187.382. Improved by 4.10163e-05.\n",
      "Iteration 104. Log joint probability =    187.382. Improved by 1.78517e-05.\n",
      "Iteration 105. Log joint probability =    187.382. Improved by 2.26428e-05.\n",
      "Iteration 106. Log joint probability =    187.382. Improved by 5.712e-05.\n",
      "Iteration 107. Log joint probability =    187.382. Improved by 1.42032e-05.\n",
      "Iteration 108. Log joint probability =    187.382. Improved by 6.73408e-06.\n",
      "Iteration 109. Log joint probability =    187.382. Improved by 4.6472e-06.\n",
      "Iteration 110. Log joint probability =    187.382. Improved by 1.22068e-05.\n",
      "Iteration 111. Log joint probability =    187.382. Improved by 2.30997e-06.\n",
      "Iteration 112. Log joint probability =    187.382. Improved by 6.58523e-06.\n",
      "Iteration 113. Log joint probability =    187.382. Improved by 2.22778e-06.\n",
      "Iteration 114. Log joint probability =    187.382. Improved by 4.42282e-06.\n",
      "Iteration 115. Log joint probability =    187.382. Improved by 1.11881e-06.\n",
      "Iteration 116. Log joint probability =    187.382. Improved by 2.12969e-06.\n",
      "Iteration 117. Log joint probability =    187.382. Improved by 1.3692e-06.\n",
      "Iteration 118. Log joint probability =    187.382. Improved by 5.97058e-07.\n",
      "Iteration 119. Log joint probability =    187.382. Improved by 1.10819e-06.\n",
      "Iteration 120. Log joint probability =    187.382. Improved by 5.92296e-07.\n",
      "Iteration 121. Log joint probability =    187.382. Improved by 2.67425e-07.\n",
      "Iteration 122. Log joint probability =    187.382. Improved by 1.01974e-07.\n",
      "Iteration 123. Log joint probability =    187.382. Improved by 2.19925e-07.\n",
      "Iteration 124. Log joint probability =    187.382. Improved by 3.42585e-07.\n",
      "Iteration 125. Log joint probability =    187.382. Improved by 6.81466e-07.\n",
      "Iteration 126. Log joint probability =    187.382. Improved by 2.24375e-07.\n",
      "Iteration 127. Log joint probability =    187.382. Improved by 2.31684e-07.\n",
      "Iteration 128. Log joint probability =    187.382. Improved by 2.7055e-07.\n",
      "Iteration 129. Log joint probability =    187.382. Improved by 3.60003e-08.\n",
      "Iteration 130. Log joint probability =    187.382. Improved by 1.75594e-07.\n",
      "Iteration 131. Log joint probability =    187.382. Improved by 1.91739e-07.\n",
      "Iteration 132. Log joint probability =    187.382. Improved by 5.09447e-08.\n",
      "Iteration 133. Log joint probability =    187.382. Improved by 5.07578e-08.\n",
      "Iteration 134. Log joint probability =    187.382. Improved by 7.23665e-09.\n"
     ]
    },
    {
     "name": "stderr",
     "output_type": "stream",
     "text": [
      "2022-05-20 01:34:50,106 [app.utils.forecasting] [INFO] Creating timeseries data for Almonds\n",
      "2022-05-20 01:34:50.106 Creating timeseries data for Almonds\n",
      "2022-05-20 01:34:50,108 [app.utils.forecasting] [INFO] Forecasting the next 1 periods\n",
      "2022-05-20 01:34:50.108 Forecasting the next 1 periods\n",
      "2022-05-20 01:34:50.114 Disabling weekly seasonality. Run prophet with weekly_seasonality=True to override this.\n",
      "2022-05-20 01:34:50.114 Disabling daily seasonality. Run prophet with daily_seasonality=True to override this.\n"
     ]
    },
    {
     "name": "stdout",
     "output_type": "stream",
     "text": [
      "\n",
      "Initial log joint probability = -94.8546\n",
      "Iteration  1. Log joint probability =    92.6413. Improved by 187.496.\n",
      "Iteration  2. Log joint probability =    138.476. Improved by 45.8342.\n",
      "Iteration  3. Log joint probability =    150.874. Improved by 12.3981.\n",
      "Iteration  4. Log joint probability =    151.386. Improved by 0.511989.\n",
      "Iteration  5. Log joint probability =    151.451. Improved by 0.0649176.\n",
      "Iteration  6. Log joint probability =    151.466. Improved by 0.0156467.\n",
      "Iteration  7. Log joint probability =    151.495. Improved by 0.0284754.\n",
      "Iteration  8. Log joint probability =    151.511. Improved by 0.0168228.\n",
      "Iteration  9. Log joint probability =    151.513. Improved by 0.00191222.\n",
      "Iteration 10. Log joint probability =    151.527. Improved by 0.0134503.\n",
      "Iteration 11. Log joint probability =     151.82. Improved by 0.29283.\n",
      "Iteration 12. Log joint probability =    151.822. Improved by 0.00250944.\n",
      "Iteration 13. Log joint probability =    151.917. Improved by 0.0947119.\n",
      "Iteration 14. Log joint probability =    151.962. Improved by 0.045107.\n",
      "Iteration 15. Log joint probability =    151.982. Improved by 0.0204109.\n",
      "Iteration 16. Log joint probability =    151.992. Improved by 0.00915528.\n",
      "Iteration 17. Log joint probability =    152.004. Improved by 0.0125293.\n",
      "Iteration 18. Log joint probability =    152.009. Improved by 0.00456994.\n",
      "Iteration 19. Log joint probability =    152.009. Improved by 0.000249931.\n",
      "Iteration 20. Log joint probability =    152.012. Improved by 0.0031833.\n",
      "Iteration 21. Log joint probability =    152.014. Improved by 0.00209067.\n",
      "Iteration 22. Log joint probability =    152.015. Improved by 0.000758471.\n",
      "Iteration 23. Log joint probability =    152.016. Improved by 0.000698681.\n",
      "Iteration 24. Log joint probability =    152.016. Improved by 0.000513157.\n",
      "Iteration 25. Log joint probability =    152.016. Improved by 0.0001271.\n",
      "Iteration 26. Log joint probability =    152.017. Improved by 0.000616083.\n",
      "Iteration 27. Log joint probability =    152.018. Improved by 0.00112831.\n",
      "Iteration 28. Log joint probability =    152.019. Improved by 0.000801527.\n",
      "Iteration 29. Log joint probability =    152.019. Improved by 0.000264348.\n",
      "Iteration 30. Log joint probability =     152.02. Improved by 0.000691477.\n",
      "Iteration 31. Log joint probability =     152.02. Improved by 0.000179966.\n",
      "Iteration 32. Log joint probability =     152.02. Improved by 0.000484244.\n",
      "Iteration 33. Log joint probability =    152.021. Improved by 0.000317033.\n",
      "Iteration 34. Log joint probability =    152.021. Improved by 0.000281625.\n",
      "Iteration 35. Log joint probability =    152.021. Improved by 7.59909e-05.\n",
      "Iteration 36. Log joint probability =    152.021. Improved by 0.000131732.\n",
      "Iteration 37. Log joint probability =    152.021. Improved by 0.00011216.\n",
      "Iteration 38. Log joint probability =    152.021. Improved by 7.88603e-05.\n",
      "Iteration 39. Log joint probability =    152.022. Improved by 9.43605e-05.\n",
      "Iteration 40. Log joint probability =    152.022. Improved by 8.40272e-06.\n",
      "Iteration 41. Log joint probability =    152.022. Improved by 1.77485e-05.\n",
      "Iteration 42. Log joint probability =    152.022. Improved by 0.000106818.\n",
      "Iteration 43. Log joint probability =    152.022. Improved by 7.70455e-06.\n",
      "Iteration 44. Log joint probability =    152.022. Improved by 4.11188e-06.\n",
      "Iteration 45. Log joint probability =    152.022. Improved by 5.15843e-05.\n",
      "Iteration 46. Log joint probability =    152.022. Improved by 1.68891e-05.\n",
      "Iteration 47. Log joint probability =    152.022. Improved by 2.69587e-05.\n",
      "Iteration 48. Log joint probability =    152.022. Improved by 1.51327e-05.\n",
      "Iteration 49. Log joint probability =    152.022. Improved by 1.68172e-05.\n",
      "Iteration 50. Log joint probability =    152.022. Improved by 5.83525e-06.\n",
      "Iteration 51. Log joint probability =    152.022. Improved by 4.23909e-07.\n",
      "Iteration 52. Log joint probability =    152.022. Improved by 6.84387e-06.\n",
      "Iteration 53. Log joint probability =    152.022. Improved by 2.67074e-06.\n",
      "Iteration 54. Log joint probability =    152.022. Improved by 2.27068e-06.\n",
      "Iteration 55. Log joint probability =    152.022. Improved by 1.65834e-06.\n",
      "Iteration 56. Log joint probability =    152.022. Improved by 3.05757e-07.\n",
      "Iteration 57. Log joint probability =    152.022. Improved by 7.45543e-07.\n",
      "Iteration 58. Log joint probability =    152.022. Improved by 5.4271e-07.\n",
      "Iteration 59. Log joint probability =    152.022. Improved by 8.83011e-07.\n",
      "Iteration 60. Log joint probability =    152.022. Improved by 6.74284e-07.\n",
      "Iteration 61. Log joint probability =    152.022. Improved by 2.02141e-06.\n",
      "Iteration 62. Log joint probability =    152.022. Improved by 2.02231e-06.\n",
      "Iteration 63. Log joint probability =    152.022. Improved by 1.29451e-06.\n",
      "Iteration 64. Log joint probability =    152.022. Improved by 1.13109e-06.\n",
      "Iteration 65. Log joint probability =    152.022. Improved by 5.03268e-07.\n",
      "Iteration 66. Log joint probability =    152.022. Improved by 9.03037e-09.\n"
     ]
    },
    {
     "name": "stderr",
     "output_type": "stream",
     "text": [
      "2022-05-20 01:34:51,334 [app.utils.forecasting] [INFO] Creating timeseries data for Avocados\n",
      "2022-05-20 01:34:51.334 Creating timeseries data for Avocados\n",
      "2022-05-20 01:34:51,336 [app.utils.forecasting] [INFO] Forecasting the next 1 periods\n",
      "2022-05-20 01:34:51.336 Forecasting the next 1 periods\n",
      "2022-05-20 01:34:51.341 Disabling weekly seasonality. Run prophet with weekly_seasonality=True to override this.\n",
      "2022-05-20 01:34:51.342 Disabling daily seasonality. Run prophet with daily_seasonality=True to override this.\n"
     ]
    },
    {
     "name": "stdout",
     "output_type": "stream",
     "text": [
      "\n",
      "Initial log joint probability = -94.55\n",
      "Iteration  1. Log joint probability =    2.04082. Improved by 96.5908.\n",
      "Iteration  2. Log joint probability =    76.1755. Improved by 74.1347.\n",
      "Iteration  3. Log joint probability =    76.1957. Improved by 0.0201447.\n",
      "Iteration  4. Log joint probability =     76.227. Improved by 0.0313729.\n",
      "Iteration  5. Log joint probability =    76.3012. Improved by 0.0741641.\n",
      "Iteration  6. Log joint probability =    76.3301. Improved by 0.0288718.\n",
      "Iteration  7. Log joint probability =    76.3762. Improved by 0.0461549.\n",
      "Iteration  8. Log joint probability =    89.6492. Improved by 13.273.\n",
      "Iteration  9. Log joint probability =       89.7. Improved by 0.0507885.\n",
      "Iteration 10. Log joint probability =    89.9266. Improved by 0.22654.\n",
      "Iteration 11. Log joint probability =    89.9538. Improved by 0.0272239.\n",
      "Iteration 12. Log joint probability =    90.0038. Improved by 0.050016.\n",
      "Iteration 13. Log joint probability =    90.0451. Improved by 0.0412733.\n",
      "Iteration 14. Log joint probability =    90.1205. Improved by 0.0753911.\n",
      "Iteration 15. Log joint probability =    90.3658. Improved by 0.245314.\n",
      "Iteration 16. Log joint probability =    91.2759. Improved by 0.91009.\n",
      "Iteration 17. Log joint probability =    91.3916. Improved by 0.115701.\n",
      "Iteration 18. Log joint probability =    91.4518. Improved by 0.0601889.\n",
      "Iteration 19. Log joint probability =    91.9292. Improved by 0.477394.\n",
      "Iteration 20. Log joint probability =    92.0476. Improved by 0.118456.\n",
      "Iteration 21. Log joint probability =    92.1435. Improved by 0.0958545.\n",
      "Iteration 22. Log joint probability =    92.2225. Improved by 0.0790486.\n",
      "Iteration 23. Log joint probability =    92.3071. Improved by 0.0845542.\n",
      "Iteration 24. Log joint probability =    92.4393. Improved by 0.132219.\n",
      "Iteration 25. Log joint probability =    92.6214. Improved by 0.182139.\n",
      "Iteration 26. Log joint probability =    92.6401. Improved by 0.0186336.\n",
      "Iteration 27. Log joint probability =    92.9326. Improved by 0.292529.\n",
      "Iteration 28. Log joint probability =    93.0163. Improved by 0.0837096.\n",
      "Iteration 29. Log joint probability =    93.7315. Improved by 0.71518.\n",
      "Iteration 30. Log joint probability =    93.8886. Improved by 0.157097.\n",
      "Iteration 31. Log joint probability =    93.9873. Improved by 0.0986726.\n",
      "Iteration 32. Log joint probability =    94.3191. Improved by 0.33188.\n",
      "Iteration 33. Log joint probability =    94.5369. Improved by 0.217785.\n",
      "Iteration 34. Log joint probability =    94.6457. Improved by 0.108734.\n",
      "Iteration 35. Log joint probability =    97.5669. Improved by 2.92121.\n",
      "Iteration 36. Log joint probability =    97.5872. Improved by 0.0203017.\n",
      "Iteration 37. Log joint probability =    97.6093. Improved by 0.0221741.\n",
      "Iteration 38. Log joint probability =    97.7233. Improved by 0.113999.\n",
      "Iteration 39. Log joint probability =    97.7505. Improved by 0.0271202.\n",
      "Iteration 40. Log joint probability =    97.8284. Improved by 0.0778926.\n",
      "Iteration 41. Log joint probability =    98.7027. Improved by 0.874304.\n",
      "Iteration 42. Log joint probability =    100.119. Improved by 1.41609.\n",
      "Iteration 43. Log joint probability =    100.279. Improved by 0.160073.\n",
      "Iteration 44. Log joint probability =    101.203. Improved by 0.924493.\n",
      "Iteration 45. Log joint probability =    101.275. Improved by 0.0713627.\n",
      "Iteration 46. Log joint probability =    101.616. Improved by 0.341212.\n",
      "Iteration 47. Log joint probability =    101.658. Improved by 0.0421793.\n",
      "Iteration 48. Log joint probability =    105.006. Improved by 3.34755.\n",
      "Iteration 49. Log joint probability =    105.069. Improved by 0.0629665.\n",
      "Iteration 50. Log joint probability =    110.922. Improved by 5.853.\n",
      "Iteration 51. Log joint probability =    111.539. Improved by 0.617158.\n",
      "Iteration 52. Log joint probability =    111.688. Improved by 0.149363.\n",
      "Iteration 53. Log joint probability =    112.517. Improved by 0.829146.\n",
      "Iteration 54. Log joint probability =    113.453. Improved by 0.935439.\n",
      "Iteration 55. Log joint probability =    113.643. Improved by 0.190739.\n",
      "Iteration 56. Log joint probability =    113.775. Improved by 0.131933.\n",
      "Iteration 57. Log joint probability =    114.039. Improved by 0.263467.\n",
      "Iteration 58. Log joint probability =    114.086. Improved by 0.0474864.\n",
      "Iteration 59. Log joint probability =    114.508. Improved by 0.421727.\n",
      "Iteration 60. Log joint probability =    114.634. Improved by 0.125894.\n",
      "Iteration 61. Log joint probability =    114.681. Improved by 0.0466147.\n",
      "Iteration 62. Log joint probability =    114.826. Improved by 0.145894.\n",
      "Iteration 63. Log joint probability =     115.16. Improved by 0.333793.\n",
      "Iteration 64. Log joint probability =    115.182. Improved by 0.0217961.\n",
      "Iteration 65. Log joint probability =    115.193. Improved by 0.0108915.\n",
      "Iteration 66. Log joint probability =    115.211. Improved by 0.0181541.\n",
      "Iteration 67. Log joint probability =    115.221. Improved by 0.00961468.\n",
      "Iteration 68. Log joint probability =    115.298. Improved by 0.077363.\n",
      "Iteration 69. Log joint probability =    115.404. Improved by 0.106433.\n",
      "Iteration 70. Log joint probability =    115.443. Improved by 0.0386135.\n",
      "Iteration 71. Log joint probability =    115.457. Improved by 0.0140172.\n",
      "Iteration 72. Log joint probability =     115.48. Improved by 0.0233122.\n",
      "Iteration 73. Log joint probability =    115.481. Improved by 0.000844155.\n",
      "Iteration 74. Log joint probability =    115.487. Improved by 0.00618808.\n",
      "Iteration 75. Log joint probability =    115.488. Improved by 0.000672452.\n",
      "Iteration 76. Log joint probability =    115.501. Improved by 0.0125863.\n",
      "Iteration 77. Log joint probability =    115.502. Improved by 0.00154447.\n",
      "Iteration 78. Log joint probability =    115.505. Improved by 0.00266841.\n",
      "Iteration 79. Log joint probability =     115.51. Improved by 0.0047367.\n",
      "Iteration 80. Log joint probability =    115.512. Improved by 0.00236627.\n",
      "Iteration 81. Log joint probability =    115.514. Improved by 0.00230108.\n",
      "Iteration 82. Log joint probability =    115.515. Improved by 0.000442519.\n",
      "Iteration 83. Log joint probability =    115.515. Improved by 0.000375133.\n",
      "Iteration 84. Log joint probability =    115.517. Improved by 0.00140557.\n",
      "Iteration 85. Log joint probability =    115.517. Improved by 0.000276534.\n",
      "Iteration 86. Log joint probability =    115.517. Improved by 0.000128418.\n",
      "Iteration 87. Log joint probability =    115.518. Improved by 0.00068368.\n",
      "Iteration 88. Log joint probability =    115.518. Improved by 0.000390681.\n",
      "Iteration 89. Log joint probability =    115.518. Improved by 0.000283118.\n",
      "Iteration 90. Log joint probability =    115.518. Improved by 0.000125861.\n",
      "Iteration 91. Log joint probability =    115.519. Improved by 0.000348404.\n",
      "Iteration 92. Log joint probability =    115.519. Improved by 5.31748e-05.\n",
      "Iteration 93. Log joint probability =    115.519. Improved by 0.000191922.\n",
      "Iteration 94. Log joint probability =    115.519. Improved by 5.51203e-05.\n",
      "Iteration 95. Log joint probability =    115.519. Improved by 3.62381e-07.\n",
      "Iteration 96. Log joint probability =    115.519. Improved by 4.91317e-05.\n",
      "Iteration 97. Log joint probability =    115.519. Improved by 7.47688e-06.\n",
      "Iteration 98. Log joint probability =    115.519. Improved by 6.07718e-05.\n",
      "Iteration 99. Log joint probability =    115.519. Improved by 1.52973e-05.\n",
      "Iteration 100. Log joint probability =    115.519. Improved by 4.91969e-05.\n",
      "Iteration 101. Log joint probability =    115.519. Improved by 5.55589e-05.\n",
      "Iteration 102. Log joint probability =    115.519. Improved by 3.36103e-05.\n",
      "Iteration 103. Log joint probability =    115.519. Improved by 4.43687e-05.\n",
      "Iteration 104. Log joint probability =    115.519. Improved by 1.66046e-05.\n",
      "Iteration 105. Log joint probability =    115.519. Improved by 3.61008e-07.\n",
      "Iteration 106. Log joint probability =    115.519. Improved by 1.60391e-05.\n",
      "Iteration 107. Log joint probability =    115.519. Improved by 1.58641e-06.\n",
      "Iteration 108. Log joint probability =    115.519. Improved by 4.69835e-06.\n",
      "Iteration 109. Log joint probability =    115.519. Improved by 9.78262e-06.\n",
      "Iteration 110. Log joint probability =    115.519. Improved by 6.38975e-06.\n",
      "Iteration 111. Log joint probability =    115.519. Improved by 3.85468e-06.\n",
      "Iteration 112. Log joint probability =    115.519. Improved by 2.76597e-06.\n",
      "Iteration 113. Log joint probability =    115.519. Improved by 2.11285e-06.\n",
      "Iteration 114. Log joint probability =    115.519. Improved by 3.4962e-07.\n",
      "Iteration 115. Log joint probability =    115.519. Improved by 4.39524e-08.\n",
      "Iteration 116. Log joint probability =    115.519. Improved by 7.65413e-07.\n",
      "Iteration 117. Log joint probability =    115.519. Improved by 1.2009e-06.\n",
      "Iteration 118. Log joint probability =    115.519. Improved by 7.457e-07.\n",
      "Iteration 119. Log joint probability =    115.519. Improved by 7.91164e-07.\n",
      "Iteration 120. Log joint probability =    115.519. Improved by 7.10515e-07.\n",
      "Iteration 121. Log joint probability =    115.519. Improved by 2.4817e-07.\n",
      "Iteration 122. Log joint probability =    115.519. Improved by 6.08735e-08.\n",
      "Iteration 123. Log joint probability =    115.519. Improved by 8.30197e-08.\n",
      "Iteration 124. Log joint probability =    115.519. Improved by 2.35881e-08.\n",
      "Iteration 125. Log joint probability =    115.519. Improved by 1.86918e-07.\n",
      "Iteration 126. Log joint probability =    115.519. Improved by 2.10843e-08.\n",
      "Iteration 127. Log joint probability =    115.519. Improved by 1.072e-07.\n",
      "Iteration 128. Log joint probability =    115.519. Improved by 1.31969e-07.\n",
      "Iteration 129. Log joint probability =    115.519. Improved by 6.48697e-08.\n",
      "Iteration 130. Log joint probability =    115.519. Improved by 1.14032e-07.\n",
      "Iteration 131. Log joint probability =    115.519. Improved by 6.25471e-08.\n",
      "Iteration 132. Log joint probability =    115.519. Improved by 1.19755e-08.\n",
      "Iteration 133. Log joint probability =    115.519. Improved by 5.41476e-08.\n",
      "Iteration 134. Log joint probability =    115.519. Improved by 2.52924e-08.\n",
      "Iteration 135. Log joint probability =    115.519. Improved by 1.0628e-08.\n",
      "Iteration 136. Log joint probability =    115.519. Improved by 2.32374e-08.\n",
      "Iteration 137. Log joint probability =    115.519. Improved by 1.9168e-09.\n"
     ]
    }
   ],
   "source": [
    "forecast_results = fred.forecast(food_index_data)"
   ]
  },
  {
   "cell_type": "code",
   "execution_count": null,
   "id": "2b0c2832",
   "metadata": {},
   "outputs": [],
   "source": []
  },
  {
   "cell_type": "code",
   "execution_count": 15,
   "id": "2b999012",
   "metadata": {},
   "outputs": [
    {
     "ename": "TypeError",
     "evalue": "type numpy.ndarray doesn't define __round__ method",
     "output_type": "error",
     "traceback": [
      "\u001b[0;31m---------------------------------------------------------------------------\u001b[0m",
      "\u001b[0;31mTypeError\u001b[0m                                 Traceback (most recent call last)",
      "Input \u001b[0;32mIn [15]\u001b[0m, in \u001b[0;36m<module>\u001b[0;34m\u001b[0m\n\u001b[1;32m      3\u001b[0m last_index \u001b[38;5;241m=\u001b[39m data\u001b[38;5;241m.\u001b[39mloc[data[date_col] \u001b[38;5;241m==\u001b[39m data[date_col]\u001b[38;5;241m.\u001b[39mmax(), food_col]\u001b[38;5;241m.\u001b[39mvalues[\u001b[38;5;241m0\u001b[39m]\n\u001b[1;32m      4\u001b[0m future_index \u001b[38;5;241m=\u001b[39m forecast_results[food_col]\n\u001b[0;32m----> 6\u001b[0m increase_perc \u001b[38;5;241m=\u001b[39m \u001b[38;5;28;43mround\u001b[39;49m\u001b[43m(\u001b[49m\u001b[43m(\u001b[49m\u001b[43mfuture_index\u001b[49m\u001b[43m \u001b[49m\u001b[38;5;241;43m-\u001b[39;49m\u001b[43m \u001b[49m\u001b[43mlast_index\u001b[49m\u001b[43m)\u001b[49m\u001b[38;5;241;43m/\u001b[39;49m\u001b[43mlast_index\u001b[49m\u001b[43m,\u001b[49m\u001b[43m \u001b[49m\u001b[38;5;241;43m2\u001b[39;49m\u001b[43m)\u001b[49m\n\u001b[1;32m      7\u001b[0m \u001b[38;5;28;01mbreak\u001b[39;00m\n",
      "\u001b[0;31mTypeError\u001b[0m: type numpy.ndarray doesn't define __round__ method"
     ]
    }
   ],
   "source": [
    "for data, date_col, food_col in food_index_data:\n",
    "    # price increase\n",
    "    last_index = data.loc[data[date_col] == data[date_col].max(), food_col].values[0]\n",
    "    future_index = forecast_results[food_col]\n",
    "    \n",
    "    increase_perc = round((future_index - last_index)/last_index, 2)\n",
    "    break"
   ]
  },
  {
   "cell_type": "code",
   "execution_count": 27,
   "id": "6a68e724",
   "metadata": {},
   "outputs": [
    {
     "data": {
      "text/plain": [
       "True"
      ]
     },
     "execution_count": 27,
     "metadata": {},
     "output_type": "execute_result"
    }
   ],
   "source": [
    "\"Almonds\" in forecast_results.keys()"
   ]
  },
  {
   "cell_type": "code",
   "execution_count": 16,
   "id": "fa969e5f",
   "metadata": {},
   "outputs": [
    {
     "data": {
      "text/plain": [
       "array([436.5922005])"
      ]
     },
     "execution_count": 16,
     "metadata": {},
     "output_type": "execute_result"
    }
   ],
   "source": [
    "future_index"
   ]
  },
  {
   "cell_type": "code",
   "execution_count": 13,
   "id": "833c987e",
   "metadata": {},
   "outputs": [
    {
     "data": {
      "text/plain": [
       "493.172"
      ]
     },
     "execution_count": 13,
     "metadata": {},
     "output_type": "execute_result"
    }
   ],
   "source": [
    "last_index"
   ]
  },
  {
   "cell_type": "code",
   "execution_count": 12,
   "id": "b4bf1e52",
   "metadata": {},
   "outputs": [
    {
     "data": {
      "text/plain": [
       "436.5922005011662"
      ]
     },
     "execution_count": 12,
     "metadata": {},
     "output_type": "execute_result"
    }
   ],
   "source": [
    "future_index"
   ]
  },
  {
   "cell_type": "code",
   "execution_count": 14,
   "id": "61228f28",
   "metadata": {},
   "outputs": [
    {
     "data": {
      "text/plain": [
       "-0.11"
      ]
     },
     "execution_count": 14,
     "metadata": {},
     "output_type": "execute_result"
    }
   ],
   "source": [
    "increase_perc"
   ]
  },
  {
   "cell_type": "code",
   "execution_count": null,
   "id": "ffa6b004",
   "metadata": {},
   "outputs": [],
   "source": []
  },
  {
   "cell_type": "code",
   "execution_count": null,
   "id": "5cc422d2",
   "metadata": {},
   "outputs": [],
   "source": []
  },
  {
   "cell_type": "code",
   "execution_count": null,
   "id": "774615b5",
   "metadata": {},
   "outputs": [],
   "source": [
    "food_index_data"
   ]
  },
  {
   "cell_type": "code",
   "execution_count": null,
   "id": "51c3abfa",
   "metadata": {},
   "outputs": [],
   "source": [
    "\n",
    "        \"\"\"\n",
    "        # fetch last date data\n",
    "        for data, date_col, food_col in food_index_data:\n",
    "            # price increase\n",
    "            last_index = data.loc[data[date_col] == data[date_col].max(), food_col].values[0]\n",
    "            future_index = forecast_results[food_col][0]\n",
    "\n",
    "            logger.info(\"{}, {}\".format(last_index, future_index))\n",
    "\n",
    "            increase_perc = np.round((future_index - last_index)/last_index, 2)\n",
    "\n",
    "            if increase_perc>0:\n",
    "                increase_perc = \"+\" + str(increase_perc)\n",
    "            else:\n",
    "                increase_perc = str(increase_perc)\n",
    "            st.info(\"Price for {} is expected to change this month by {}%\".format(food_col, increase_perc))"
   ]
  },
  {
   "cell_type": "code",
   "execution_count": null,
   "id": "aacc4bcf",
   "metadata": {},
   "outputs": [],
   "source": [
    "# write insight report\n",
    "fred.forecast_report(food_index_data, forecast_results)"
   ]
  },
  {
   "cell_type": "code",
   "execution_count": null,
   "id": "4ce615ba",
   "metadata": {},
   "outputs": [],
   "source": []
  },
  {
   "cell_type": "code",
   "execution_count": null,
   "id": "a0fb3c07",
   "metadata": {},
   "outputs": [],
   "source": []
  }
 ],
 "metadata": {
  "kernelspec": {
   "display_name": "Python 3 (ipykernel)",
   "language": "python",
   "name": "python3"
  },
  "language_info": {
   "codemirror_mode": {
    "name": "ipython",
    "version": 3
   },
   "file_extension": ".py",
   "mimetype": "text/x-python",
   "name": "python",
   "nbconvert_exporter": "python",
   "pygments_lexer": "ipython3",
   "version": "3.8.12"
  }
 },
 "nbformat": 4,
 "nbformat_minor": 5
}
