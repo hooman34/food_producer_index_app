{
 "cells": [
  {
   "cell_type": "code",
   "execution_count": 2,
   "id": "4d998d2f",
   "metadata": {},
   "outputs": [
    {
     "name": "stdout",
     "output_type": "stream",
     "text": [
      "Currently working at /Users/gieunkwak/Data Analytics/random_things/tridge_demo\n"
     ]
    }
   ],
   "source": [
    "import os\n",
    "\n",
    "path_parent = os.path.dirname(os.getcwd())\n",
    "os.chdir(path_parent)\n",
    "\n",
    "print(\"Currently working at {}\".format(os.getcwd()))"
   ]
  },
  {
   "cell_type": "code",
   "execution_count": 3,
   "id": "bbb8ac07",
   "metadata": {},
   "outputs": [],
   "source": [
    "import mysql.connector\n",
    "from mysql.connector import Error\n",
    "from pandas.io import sql\n",
    "from sqlalchemy import create_engine\n",
    "import pymysql\n",
    "import pandas as pd\n",
    "import time\n",
    "\n",
    "import investpy\n",
    "from fredapi import Fred\n",
    "import json\n",
    "from matplotlib import pyplot as plt\n",
    "import quandl\n",
    "from datetime import date\n",
    "from app.utils.fetch_data import *\n",
    "from app.utils.db_connection import *\n",
    "\n",
    "from collections import Counter"
   ]
  },
  {
   "cell_type": "code",
   "execution_count": 29,
   "id": "7d3846b1",
   "metadata": {},
   "outputs": [],
   "source": [
    "options = fred.search('Producer Price Index by Commodity: Farm Products').reset_index()\n",
    "options['food_name'] = options['title'].str.split(\": \").str[-1]\n",
    "options['observation_start_year'] = options['observation_start'].dt.year\n",
    "# filter out unwanted indexes\n",
    "options = options.loc[~options['food_name'].str.contains('DISCONTINUED')]\n",
    "options = options.loc[options['frequency_short']=='M']\n",
    "options = options.loc[options['seasonal_adjustment_short']=='NSA']"
   ]
  },
  {
   "cell_type": "code",
   "execution_count": 32,
   "id": "325d6bd3",
   "metadata": {},
   "outputs": [
    {
     "data": {
      "text/plain": [
       "Index(['series id', 'id', 'realtime_start', 'realtime_end', 'title',\n",
       "       'observation_start', 'observation_end', 'frequency', 'frequency_short',\n",
       "       'units', 'units_short', 'seasonal_adjustment',\n",
       "       'seasonal_adjustment_short', 'last_updated', 'popularity', 'notes',\n",
       "       'food_name', 'observation_start_year'],\n",
       "      dtype='object')"
      ]
     },
     "execution_count": 32,
     "metadata": {},
     "output_type": "execute_result"
    }
   ],
   "source": [
    "options.columns"
   ]
  },
  {
   "cell_type": "code",
   "execution_count": 53,
   "id": "29064a18",
   "metadata": {},
   "outputs": [],
   "source": [
    "latest = options.groupby('food_name').agg({\"observation_start_year\":\"min\"}).reset_index()\n",
    "latest = latest.merge(options, on=['food_name', 'observation_start_year'], how='left')"
   ]
  },
  {
   "cell_type": "code",
   "execution_count": 54,
   "id": "ff5a2558",
   "metadata": {},
   "outputs": [],
   "source": [
    "popular = latest.groupby('food_name').agg({\"popularity\":\"max\"}).reset_index()\n",
    "popular = popular.merge(latest, on=['food_name', 'popularity'], how='left')"
   ]
  },
  {
   "cell_type": "code",
   "execution_count": 55,
   "id": "8b7991fc",
   "metadata": {},
   "outputs": [],
   "source": [
    "final = popular.drop_duplicates(subset=['food_name'])"
   ]
  },
  {
   "cell_type": "code",
   "execution_count": 57,
   "id": "43ef7198",
   "metadata": {
    "scrolled": true
   },
   "outputs": [
    {
     "data": {
      "text/plain": [
       "(136, 18)"
      ]
     },
     "execution_count": 57,
     "metadata": {},
     "output_type": "execute_result"
    }
   ],
   "source": [
    "final.shape"
   ]
  },
  {
   "cell_type": "code",
   "execution_count": 51,
   "id": "c8ce21c1",
   "metadata": {},
   "outputs": [
    {
     "name": "stdout",
     "output_type": "stream",
     "text": [
      "Rough Rice\n"
     ]
    }
   ],
   "source": [
    "for k,v in Counter(final.food_name).items():\n",
    "    if v>1:\n",
    "        print(k)"
   ]
  },
  {
   "cell_type": "code",
   "execution_count": null,
   "id": "43be96c3",
   "metadata": {},
   "outputs": [],
   "source": []
  },
  {
   "cell_type": "code",
   "execution_count": null,
   "id": "dcb6367f",
   "metadata": {},
   "outputs": [],
   "source": []
  },
  {
   "cell_type": "code",
   "execution_count": 52,
   "id": "1914588b",
   "metadata": {},
   "outputs": [
    {
     "data": {
      "text/html": [
       "<div>\n",
       "<style scoped>\n",
       "    .dataframe tbody tr th:only-of-type {\n",
       "        vertical-align: middle;\n",
       "    }\n",
       "\n",
       "    .dataframe tbody tr th {\n",
       "        vertical-align: top;\n",
       "    }\n",
       "\n",
       "    .dataframe thead th {\n",
       "        text-align: right;\n",
       "    }\n",
       "</style>\n",
       "<table border=\"1\" class=\"dataframe\">\n",
       "  <thead>\n",
       "    <tr style=\"text-align: right;\">\n",
       "      <th></th>\n",
       "      <th>food_name</th>\n",
       "      <th>popularity</th>\n",
       "      <th>observation_start_year</th>\n",
       "      <th>series id</th>\n",
       "      <th>id</th>\n",
       "      <th>realtime_start</th>\n",
       "      <th>realtime_end</th>\n",
       "      <th>title</th>\n",
       "      <th>observation_start</th>\n",
       "      <th>observation_end</th>\n",
       "      <th>frequency</th>\n",
       "      <th>frequency_short</th>\n",
       "      <th>units</th>\n",
       "      <th>units_short</th>\n",
       "      <th>seasonal_adjustment</th>\n",
       "      <th>seasonal_adjustment_short</th>\n",
       "      <th>last_updated</th>\n",
       "      <th>notes</th>\n",
       "    </tr>\n",
       "  </thead>\n",
       "  <tbody>\n",
       "    <tr>\n",
       "      <th>98</th>\n",
       "      <td>Rough Rice</td>\n",
       "      <td>1</td>\n",
       "      <td>1991</td>\n",
       "      <td>WPU012301</td>\n",
       "      <td>WPU012301</td>\n",
       "      <td>2022-05-16</td>\n",
       "      <td>2022-05-16</td>\n",
       "      <td>Producer Price Index by Commodity: Farm Produc...</td>\n",
       "      <td>1991-12-01</td>\n",
       "      <td>2022-04-01</td>\n",
       "      <td>Monthly</td>\n",
       "      <td>M</td>\n",
       "      <td>Index Dec 1991=100</td>\n",
       "      <td>Index Dec 1991=100</td>\n",
       "      <td>Not Seasonally Adjusted</td>\n",
       "      <td>NSA</td>\n",
       "      <td>2022-05-12 08:05:15-05:00</td>\n",
       "      <td>None</td>\n",
       "    </tr>\n",
       "    <tr>\n",
       "      <th>99</th>\n",
       "      <td>Rough Rice</td>\n",
       "      <td>1</td>\n",
       "      <td>1991</td>\n",
       "      <td>WPU0123</td>\n",
       "      <td>WPU0123</td>\n",
       "      <td>2022-05-16</td>\n",
       "      <td>2022-05-16</td>\n",
       "      <td>Producer Price Index by Commodity: Farm Produc...</td>\n",
       "      <td>1991-12-01</td>\n",
       "      <td>2022-04-01</td>\n",
       "      <td>Monthly</td>\n",
       "      <td>M</td>\n",
       "      <td>Index Dec 1991=100</td>\n",
       "      <td>Index Dec 1991=100</td>\n",
       "      <td>Not Seasonally Adjusted</td>\n",
       "      <td>NSA</td>\n",
       "      <td>2022-05-12 08:05:40-05:00</td>\n",
       "      <td>None</td>\n",
       "    </tr>\n",
       "  </tbody>\n",
       "</table>\n",
       "</div>"
      ],
      "text/plain": [
       "     food_name popularity  observation_start_year  series id         id  \\\n",
       "98  Rough Rice          1                    1991  WPU012301  WPU012301   \n",
       "99  Rough Rice          1                    1991    WPU0123    WPU0123   \n",
       "\n",
       "   realtime_start realtime_end  \\\n",
       "98     2022-05-16   2022-05-16   \n",
       "99     2022-05-16   2022-05-16   \n",
       "\n",
       "                                                title observation_start  \\\n",
       "98  Producer Price Index by Commodity: Farm Produc...        1991-12-01   \n",
       "99  Producer Price Index by Commodity: Farm Produc...        1991-12-01   \n",
       "\n",
       "   observation_end frequency frequency_short               units  \\\n",
       "98      2022-04-01   Monthly               M  Index Dec 1991=100   \n",
       "99      2022-04-01   Monthly               M  Index Dec 1991=100   \n",
       "\n",
       "           units_short      seasonal_adjustment seasonal_adjustment_short  \\\n",
       "98  Index Dec 1991=100  Not Seasonally Adjusted                       NSA   \n",
       "99  Index Dec 1991=100  Not Seasonally Adjusted                       NSA   \n",
       "\n",
       "                 last_updated notes  \n",
       "98  2022-05-12 08:05:15-05:00  None  \n",
       "99  2022-05-12 08:05:40-05:00  None  "
      ]
     },
     "execution_count": 52,
     "metadata": {},
     "output_type": "execute_result"
    }
   ],
   "source": [
    "final.loc[final.food_name=='Rough Rice']"
   ]
  },
  {
   "cell_type": "code",
   "execution_count": 39,
   "id": "9531d6d4",
   "metadata": {},
   "outputs": [
    {
     "data": {
      "text/plain": [
       "(140, 18)"
      ]
     },
     "execution_count": 39,
     "metadata": {},
     "output_type": "execute_result"
    }
   ],
   "source": [
    "df.shape"
   ]
  },
  {
   "cell_type": "code",
   "execution_count": 40,
   "id": "ae72c253",
   "metadata": {},
   "outputs": [
    {
     "data": {
      "text/plain": [
       "(136, 2)"
      ]
     },
     "execution_count": 40,
     "metadata": {},
     "output_type": "execute_result"
    }
   ],
   "source": [
    "latest.shape"
   ]
  },
  {
   "cell_type": "code",
   "execution_count": null,
   "id": "024de105",
   "metadata": {},
   "outputs": [],
   "source": []
  },
  {
   "cell_type": "code",
   "execution_count": null,
   "id": "60c0ec90",
   "metadata": {},
   "outputs": [],
   "source": []
  },
  {
   "cell_type": "code",
   "execution_count": 4,
   "id": "5ac8dad0",
   "metadata": {
    "scrolled": true
   },
   "outputs": [],
   "source": [
    "with open('app/keys/keys.json', 'r') as key_file:\n",
    "    keys = json.load(key_file)"
   ]
  },
  {
   "cell_type": "code",
   "execution_count": null,
   "id": "03688587",
   "metadata": {},
   "outputs": [],
   "source": []
  },
  {
   "cell_type": "code",
   "execution_count": null,
   "id": "810b2b34",
   "metadata": {},
   "outputs": [],
   "source": [
    "today = date.today().strftime(\"%Y-%m-%d\")\n",
    "today\n",
    "\n",
    "df = fred_fred('WPU01190102', observation_start='2000-01-01', observation_end=today)"
   ]
  },
  {
   "cell_type": "code",
   "execution_count": null,
   "id": "89cf38e4",
   "metadata": {},
   "outputs": [],
   "source": []
  },
  {
   "cell_type": "code",
   "execution_count": null,
   "id": "cf45b9f9",
   "metadata": {},
   "outputs": [],
   "source": []
  }
 ],
 "metadata": {
  "kernelspec": {
   "display_name": "Python 3 (ipykernel)",
   "language": "python",
   "name": "python3"
  },
  "language_info": {
   "codemirror_mode": {
    "name": "ipython",
    "version": 3
   },
   "file_extension": ".py",
   "mimetype": "text/x-python",
   "name": "python",
   "nbconvert_exporter": "python",
   "pygments_lexer": "ipython3",
   "version": "3.8.12"
  }
 },
 "nbformat": 4,
 "nbformat_minor": 5
}
